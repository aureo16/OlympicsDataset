{
 "cells": [
  {
   "cell_type": "code",
   "execution_count": 2,
   "id": "4c39693c",
   "metadata": {
    "id": "85a1b02c"
   },
   "outputs": [],
   "source": [
    "%defaultDatasource jdbc:h2:mem:db\n",
    "DROP Table IF EXISTS ParticipacaoComite;\n",
    "DROP Table IF EXISTS Atleta;\n",
    "DROP Table IF EXISTS EsporteModalidade;\n",
    "DROP TABLE IF EXISTS EdicaoDosJogos;\n",
    "DROP TABLE IF EXISTS ComiteOlimpico;\n",
    "DROP TABLE IF EXISTS ParticipacaoAtletas;\n",
    "DROP TABLE IF EXISTS ComiteDosAtletas;\n",
    "DROP TABLE IF EXISTS EsportesDasEdicoes;"
   ]
  },
  {
   "cell_type": "code",
   "execution_count": 3,
   "id": "811c2425",
   "metadata": {},
   "outputs": [],
   "source": [
    "CREATE TABLE EdicaoDosJogos (\n",
    "    Ano INTEGER NOT NULL,\n",
    "    NumeroDaEdicao INTEGER NOT NULL,\n",
    "    CidadeSede VARCHAR(20) NOT NULL,\n",
    "    TotalDeAtletas INTEGER NOT NULL,\n",
    "    Mascote VARCHAR(50) NOT NULL,\n",
    "    PRIMARY KEY (Ano)\n",
    ") AS SELECT\n",
    "    Ano,\n",
    "    NumeroDaEdicao,\n",
    "    Cidade,\n",
    "    TotalDeAtletas,\n",
    "    Mascote\n",
    "FROM CSVREAD('./edicoes.csv');"
   ]
  },
  {
   "cell_type": "code",
   "execution_count": 4,
   "id": "9ed29128",
   "metadata": {},
   "outputs": [],
   "source": [
    "CREATE TABLE Atleta (\n",
    "    Id INTEGER NOT NULL,\n",
    "    Nome VARCHAR(100) NOT NULL,\n",
    "    AnoDeNascimento VARCHAR(10),\n",
    "    Sexo VARCHAR(1),\n",
    "    PRIMARY KEY (Id)\n",
    ") AS SELECT\n",
    "    Id,\n",
    "    Nome,\n",
    "    AnoDeNascimento,\n",
    "    Sexo\n",
    "FROM CSVREAD('./atletas.csv');"
   ]
  },
  {
   "cell_type": "code",
   "execution_count": 5,
   "id": "07c72a6a",
   "metadata": {},
   "outputs": [],
   "source": [
    "CREATE TABLE ComiteOlimpico (\n",
    "    Sigla VARCHAR(3) NOT NULL,\n",
    "    Pais VARCHAR(50) NOT NULL,\n",
    "    PRIMARY KEY (Sigla)\n",
    ") AS SELECT\n",
    "    Sigla,\n",
    "    País\n",
    "FROM CSVREAD('./IOC.csv');"
   ]
  },
  {
   "cell_type": "code",
   "execution_count": 6,
   "id": "43bd7c59",
   "metadata": {},
   "outputs": [],
   "source": [
    "CREATE TABLE EsporteModalidade (\n",
    "    Id INTEGER NOT NULL,\n",
    "    Nome VARCHAR(100) NOT NULL,\n",
    "    EsportePai VARCHAR(100),\n",
    "    PRIMARY KEY (Id)\n",
    ") AS SELECT\n",
    "    Id,\n",
    "    Nome,\n",
    "    EsportePai\n",
    "FROM CSVREAD('./esportes.csv');"
   ]
  },
  {
   "cell_type": "code",
   "execution_count": 7,
   "id": "3631e839",
   "metadata": {
    "id": "755af935"
   },
   "outputs": [],
   "source": [
    "CREATE TABLE ParticipacaoComites  (\n",
    "    IdComite VARCHAR(3) NOT NULL,\n",
    "    AnoEdicao INTEGER NOT NULL,\n",
    "    QtdAtletas INTEGER NOT NULL,\n",
    "    QtdOuro INTEGER NOT NULL,\n",
    "    QtdPrata INTEGER NOT NULL,\n",
    "    QtdBronze INTEGER NOT NULL,\n",
    "    Classificacao VARCHAR(3) NOT NULL,\n",
    "    FOREIGN KEY (IdComite)\n",
    "        REFERENCES ComiteOlimpico(Sigla)\n",
    "            ON DELETE NO ACTION\n",
    "            ON UPDATE NO ACTION,\n",
    "    FOREIGN KEY (AnoEdicao)\n",
    "        REFERENCES EdicaoDosJogos(Ano)\n",
    "            ON DELETE NO ACTION\n",
    "            ON UPDATE NO ACTION\n",
    ") AS SELECT\n",
    "    IdComite,\n",
    "    AnoEdicao,\n",
    "    QtdAtletas,\n",
    "    QtdOuro,\n",
    "    QtdPrata,\n",
    "    QtdBronze,\n",
    "    Classificacao\n",
    "FROM CSVREAD('./participacaoComites.csv')"
   ]
  },
  {
   "cell_type": "code",
   "execution_count": null,
   "id": "50715f4b",
   "metadata": {},
   "outputs": [],
   "source": [
    "CREATE TABLE ParticipacaoAtletas  (\n",
    "    IdAtleta INTEGER NOT NULL,\n",
    "    AnoEdicao INTEGER NOT NULL,\n",
    "    IdModalidade INTEGER NOT NULL,\n",
    "    Altura VARCHAR(16) NOT NULL,\n",
    "    Peso VARCHAR(16) NOT NULL,\n",
    "    Medalha VARCHAR(6) NOT NULL,\n",
    "    FOREIGN KEY (IdAtleta)\n",
    "        REFERENCES Atleta(Id)\n",
    "            ON DELETE NO ACTION\n",
    "            ON UPDATE NO ACTION,\n",
    "    FOREIGN KEY (AnoEdicao)\n",
    "        REFERENCES EdicaoDosJogos(Ano)\n",
    "            ON DELETE NO ACTION\n",
    "            ON UPDATE NO ACTION,\n",
    "    FOREIGN KEY (IdModalidade)\n",
    "        REFERENCES EsporteModalidade(Id)\n",
    "            ON DELETE NO ACTION\n",
    "            ON UPDATE NO ACTION\n",
    ") AS SELECT\n",
    "    IdAtleta,\n",
    "    AnoEdicao,\n",
    "    IdModalidade,\n",
    "    Altura,\n",
    "    Peso,\n",
    "    Medalha\n",
    "FROM CSVREAD('./participacaoAtletas.csv')"
   ]
  },
  {
   "cell_type": "code",
   "execution_count": null,
   "id": "07c53abb",
   "metadata": {},
   "outputs": [],
   "source": [
    "CREATE TABLE ComiteDosAtletas  (\n",
    "    IdComite VARCHAR(3) NOT NULL,\n",
    "    IdAtleta INTEGER NOT NULL,\n",
    "    FOREIGN KEY (IdComite)\n",
    "        REFERENCES ComiteOlimpico(Sigla)\n",
    "            ON DELETE NO ACTION\n",
    "            ON UPDATE NO ACTION,\n",
    "    FOREIGN KEY (IdAtleta)\n",
    "        REFERENCES Atleta(Id)\n",
    "            ON DELETE NO ACTION\n",
    "            ON UPDATE NO ACTION\n",
    ") AS SELECT\n",
    "    IdComite,\n",
    "    IdAtleta\n",
    "FROM CSVREAD('./comiteDosAtletas.csv')"
   ]
  },
  {
   "cell_type": "code",
   "execution_count": null,
   "id": "fa71321f",
   "metadata": {},
   "outputs": [],
   "source": [
    "CREATE TABLE EsportesDasEdicoes  (\n",
    "    AnoEdicao INTEGER NOT NULL,\n",
    "    IdModalidade INTEGER NOT NULL,\n",
    "    Ouro VARCHAR(3),\n",
    "    Prata VARCHAR(3),\n",
    "    Bronze VARCHAR(3),\n",
    "    FOREIGN KEY (AnoEdicao)\n",
    "        REFERENCES EdicaoDosJogos(Ano)\n",
    "            ON DELETE NO ACTION\n",
    "            ON UPDATE NO ACTION,\n",
    "    FOREIGN KEY (IdModalidade)\n",
    "        REFERENCES EsporteModalidade(Id)\n",
    "            ON DELETE NO ACTION\n",
    "            ON UPDATE NO ACTION\n",
    ") AS SELECT\n",
    "    AnoEdicao,\n",
    "    IdModalidade,\n",
    "    Ouro,\n",
    "    Prata,\n",
    "    Bronze\n",
    "FROM CSVREAD('./esportesDasEdicoes.csv')"
   ]
  },
  {
   "cell_type": "code",
   "execution_count": null,
   "id": "c7a8ac78",
   "metadata": {},
   "outputs": [
    {
     "data": {
      "application/vnd.jupyter.widget-view+json": {
       "model_id": "38acd88f-f35a-4dc2-8584-715a09192aa5",
       "version_major": 2,
       "version_minor": 0
      },
      "method": "display_data"
     },
     "metadata": {},
     "output_type": "display_data"
    }
   ],
   "source": [
    "SELECT * FROM EDICAODOSJOGOS"
   ]
  },
  {
   "cell_type": "code",
   "execution_count": null,
   "id": "2a970057",
   "metadata": {},
   "outputs": [
    {
     "data": {
      "application/vnd.jupyter.widget-view+json": {
       "model_id": "3913d59b-59a2-4db0-ac2b-79a7f2d9c349",
       "version_major": 2,
       "version_minor": 0
      },
      "method": "display_data"
     },
     "metadata": {},
     "output_type": "display_data"
    }
   ],
   "source": [
    "/*Pergunta 1*/\n",
    "SELECT DISTINCT C.PAIS, CAST (P.Classificacao AS INT) Classificacao\n",
    "    FROM ParticipacaoComites P, ComiteOlimpico C\n",
    "    WHERE C.Sigla=P.IdComite AND AnoEdicao=2016 AND Classificacao<>'-'\n",
    "    ORDER BY Classificacao"
   ]
  },
  {
   "cell_type": "code",
   "execution_count": null,
   "id": "e30dbac4",
   "metadata": {},
   "outputs": [
    {
     "data": {
      "application/vnd.jupyter.widget-view+json": {
       "model_id": "b2bbf7c9-ae97-4d6a-bd55-1e1cd7d37602",
       "version_major": 2,
       "version_minor": 0
      },
      "method": "display_data"
     },
     "metadata": {},
     "output_type": "display_data"
    }
   ],
   "source": [
    "/*Pergunta 2*/\n",
    "SELECT C.PAIS, (SUM(P.QTDOURO)+SUM(P.QTDPRATA)+SUM(P.QTDBRONZE))/COUNT(*) MEDIA\n",
    "    FROM PARTICIPACAOCOMITES P, COMITEOLIMPICO C\n",
    "    WHERE P.IDCOMITE=C.SIGLA\n",
    "    GROUP BY C.PAIS\n",
    "    ORDER BY MEDIA DESC"
   ]
  },
  {
   "cell_type": "code",
   "execution_count": null,
   "id": "e0f732bd",
   "metadata": {},
   "outputs": [
    {
     "data": {
      "application/vnd.jupyter.widget-view+json": {
       "model_id": "476c442b-0253-4597-b374-21d2b0087d3f",
       "version_major": 2,
       "version_minor": 0
      },
      "method": "display_data"
     },
     "metadata": {},
     "output_type": "display_data"
    }
   ],
   "source": [
    "/*Pergunta 3*/\n",
    "SELECT DISTINCT E.ANOEDICAO, M.NOME, E.OURO\n",
    "    FROM ESPORTESDASEDICOES E, ESPORTEMODALIDADE M\n",
    "    WHERE E.IDMODALIDADE=M.ID AND E.ANOEDICAO >= 2000 AND M.ID=8\n",
    "    ORDER BY E.ANOEDICAO"
   ]
  },
  {
   "cell_type": "code",
   "execution_count": null,
   "id": "8b5d68df",
   "metadata": {},
   "outputs": [
    {
     "data": {
      "application/vnd.jupyter.widget-view+json": {
       "model_id": "5e4bc665-33ca-43ae-b682-7b3175c36529",
       "version_major": 2,
       "version_minor": 0
      },
      "method": "display_data"
     },
     "metadata": {},
     "output_type": "display_data"
    }
   ],
   "source": [
    "/*Pergunta 4*/\n",
    "SELECT P.ANOEDICAO, A.SEXO, COUNT(*) TOTAL\n",
    "    FROM ATLETA A, PARTICIPACAOATLETAS P\n",
    "    WHERE A.ID=P.IDATLETA\n",
    "    GROUP BY P.ANOEDICAO, A.SEXO\n",
    "    ORDER BY P.ANOEDICAO"
   ]
  },
  {
   "cell_type": "code",
   "execution_count": 35,
   "id": "4d87c8ab",
   "metadata": {},
   "outputs": [
    {
     "data": {
      "application/vnd.jupyter.widget-view+json": {
       "model_id": "f0deac1a-086d-40ac-ab2a-24df12301d4b",
       "version_major": 2,
       "version_minor": 0
      },
      "method": "display_data"
     },
     "metadata": {},
     "output_type": "display_data"
    }
   ],
   "source": [
    "/*Pergunta 5*/\n",
    "SELECT A.NOME, P.MEDALHA, COUNT(*) TOTAL\n",
    "    FROM PARTICIPACAOATLETAS P, ATLETA A\n",
    "    WHERE P.IDATLETA=A.ID AND A.ID=1467 AND P.MEDALHA<>'-'\n",
    "    GROUP BY P.IDATLETA, P.MEDALHA"
   ]
  },
  {
   "cell_type": "code",
   "execution_count": 34,
   "id": "9639466f",
   "metadata": {},
   "outputs": [
    {
     "data": {
      "application/vnd.jupyter.widget-view+json": {
       "model_id": "f04e9c3f-8e83-4f86-8224-19e6030dbeac",
       "version_major": 2,
       "version_minor": 0
      },
      "method": "display_data"
     },
     "metadata": {},
     "output_type": "display_data"
    }
   ],
   "source": [
    "SELECT NOME, COUNT(*) TOTALOLIMPIADAS\n",
    "    FROM (SELECT A.NOME, COUNT(*) TOTALJOGOS\n",
    "            FROM PARTICIPACAOATLETAS P, ATLETA A\n",
    "            WHERE P.IDATLETA=A.ID AND A.ID=1467\n",
    "            GROUP BY P.IDATLETA, P.ANOEDICAO)\n",
    "    GROUP BY NOME"
   ]
  },
  {
   "cell_type": "code",
   "execution_count": null,
   "id": "aa49767d",
   "metadata": {
    "id": "30739242"
   },
   "outputs": [],
   "source": []
  }
 ],
 "metadata": {
  "colab": {
   "name": "trabalhos_querys.ipynb",
   "provenance": []
  },
  "kernelspec": {
   "display_name": "SQL",
   "language": "SQL",
   "name": "sql"
  },
  "language_info": {
   "codemirror_mode": "sql",
   "file_extension": ".sql",
   "mimetype": "",
   "name": "SQL",
   "nbconverter_exporter": "",
   "version": ""
  },
  "toc": {
   "base_numbering": 1,
   "nav_menu": {},
   "number_sections": false,
   "sideBar": false,
   "skip_h1_title": false,
   "title_cell": "Table of Contents",
   "title_sidebar": "Contents",
   "toc_cell": false,
   "toc_position": {},
   "toc_section_display": false,
   "toc_window_display": false
  }
 },
 "nbformat": 4,
 "nbformat_minor": 5
}

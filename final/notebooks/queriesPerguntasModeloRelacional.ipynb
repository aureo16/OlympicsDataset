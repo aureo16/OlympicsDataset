{
 "cells": [
  {
   "cell_type": "code",
   "execution_count": 1,
   "id": "4c39693c",
   "metadata": {
    "id": "4c39693c"
   },
   "outputs": [],
   "source": [
    "%defaultDatasource jdbc:h2:mem:db\n",
    "DROP Table IF EXISTS ParticipacaoComite;\n",
    "DROP Table IF EXISTS Atleta;\n",
    "DROP Table IF EXISTS EsporteModalidade;\n",
    "DROP TABLE IF EXISTS EdicaoDosJogos;\n",
    "DROP TABLE IF EXISTS ComiteOlimpico;\n",
    "DROP TABLE IF EXISTS ParticipacaoAtletas;\n",
    "DROP TABLE IF EXISTS ComiteDosAtletas;\n",
    "DROP TABLE IF EXISTS EsportesDasEdicoes;"
   ]
  },
  {
   "cell_type": "code",
   "execution_count": 2,
   "id": "811c2425",
   "metadata": {
    "id": "811c2425"
   },
   "outputs": [],
   "source": [
    "CREATE TABLE EdicaoDosJogos (\n",
    "    Ano INTEGER NOT NULL,\n",
    "    NumeroDaEdicao INTEGER NOT NULL,\n",
    "    CidadeSede VARCHAR(20) NOT NULL,\n",
    "    TotalDeAtletas INTEGER NOT NULL,\n",
    "    Mascote VARCHAR(50) NOT NULL,\n",
    "    PRIMARY KEY (Ano)\n",
    ") AS SELECT\n",
    "    Ano,\n",
    "    NumeroDaEdicao,\n",
    "    Cidade,\n",
    "    TotalDeAtletas,\n",
    "    Mascote\n",
    "FROM CSVREAD('./edicoes.csv');"
   ]
  },
  {
   "cell_type": "code",
   "execution_count": 3,
   "id": "9ed29128",
   "metadata": {
    "id": "9ed29128"
   },
   "outputs": [],
   "source": [
    "CREATE TABLE Atleta (\n",
    "    Id INTEGER NOT NULL,\n",
    "    Nome VARCHAR(100) NOT NULL,\n",
    "    AnoDeNascimento VARCHAR(10),\n",
    "    Sexo VARCHAR(1),\n",
    "    PRIMARY KEY (Id)\n",
    ") AS SELECT\n",
    "    Id,\n",
    "    Nome,\n",
    "    AnoDeNascimento,\n",
    "    Sexo\n",
    "FROM CSVREAD('./atletas.csv');"
   ]
  },
  {
   "cell_type": "code",
   "execution_count": 4,
   "id": "07c72a6a",
   "metadata": {
    "id": "07c72a6a"
   },
   "outputs": [],
   "source": [
    "CREATE TABLE ComiteOlimpico (\n",
    "    Sigla VARCHAR(3) NOT NULL,\n",
    "    Pais VARCHAR(50) NOT NULL,\n",
    "    PRIMARY KEY (Sigla)\n",
    ") AS SELECT\n",
    "    Id,\n",
    "    País\n",
    "FROM CSVREAD('./comites.csv');"
   ]
  },
  {
   "cell_type": "code",
   "execution_count": 5,
   "id": "43bd7c59",
   "metadata": {
    "id": "43bd7c59"
   },
   "outputs": [],
   "source": [
    "CREATE TABLE EsporteModalidade (\n",
    "    Id INTEGER NOT NULL,\n",
    "    Nome VARCHAR(100) NOT NULL,\n",
    "    EsportePai VARCHAR(100),\n",
    "    PRIMARY KEY (Id)\n",
    ") AS SELECT\n",
    "    Id,\n",
    "    Nome,\n",
    "    EsportePai\n",
    "FROM CSVREAD('./esportes.csv');"
   ]
  },
  {
   "cell_type": "code",
   "execution_count": 6,
   "id": "3631e839",
   "metadata": {
    "id": "3631e839"
   },
   "outputs": [],
   "source": [
    "CREATE TABLE ParticipacaoComites  (\n",
    "    IdComite VARCHAR(3) NOT NULL,\n",
    "    AnoEdicao INTEGER NOT NULL,\n",
    "    QtdAtletas INTEGER NOT NULL,\n",
    "    QtdOuro INTEGER NOT NULL,\n",
    "    QtdPrata INTEGER NOT NULL,\n",
    "    QtdBronze INTEGER NOT NULL,\n",
    "    Classificacao VARCHAR(3) NOT NULL,\n",
    ") AS SELECT\n",
    "    IdComite,\n",
    "    AnoEdicao,\n",
    "    QtdAtletas,\n",
    "    QtdOuro,\n",
    "    QtdPrata,\n",
    "    QtdBronze,\n",
    "    Classificacao\n",
    "FROM CSVREAD('./participacaoComites.csv')"
   ]
  },
  {
   "cell_type": "code",
   "execution_count": 7,
   "id": "50715f4b",
   "metadata": {
    "id": "50715f4b"
   },
   "outputs": [],
   "source": [
    "CREATE TABLE ParticipacaoAtletas  (\n",
    "    IdAtleta INTEGER NOT NULL,\n",
    "    AnoEdicao INTEGER NOT NULL,\n",
    "    IdModalidade INTEGER NOT NULL,\n",
    "    Altura VARCHAR(16) NOT NULL,\n",
    "    Peso VARCHAR(16) NOT NULL,\n",
    "    Medalha VARCHAR(6) NOT NULL,\n",
    ") AS SELECT\n",
    "    IdAtleta,\n",
    "    AnoEdicao,\n",
    "    IdModalidade,\n",
    "    Altura,\n",
    "    Peso,\n",
    "    Medalha\n",
    "FROM CSVREAD('./participacaoAtletas.csv')"
   ]
  },
  {
   "cell_type": "code",
   "execution_count": 8,
   "id": "07c53abb",
   "metadata": {
    "id": "07c53abb"
   },
   "outputs": [],
   "source": [
    "CREATE TABLE ComiteDosAtletas  (\n",
    "    IdComite VARCHAR(3) NOT NULL,\n",
    "    IdAtleta INTEGER NOT NULL,\n",
    ") AS SELECT\n",
    "    IdComite,\n",
    "    IdAtleta\n",
    "FROM CSVREAD('./comiteDosAtletas.csv')"
   ]
  },
  {
   "cell_type": "code",
   "execution_count": 9,
   "id": "fa71321f",
   "metadata": {
    "id": "fa71321f"
   },
   "outputs": [],
   "source": [
    "CREATE TABLE EsportesDasEdicoes  (\n",
    "    AnoEdicao INTEGER NOT NULL,\n",
    "    IdModalidade INTEGER NOT NULL,\n",
    "    Ouro VARCHAR(3),\n",
    "    Prata VARCHAR(3),\n",
    "    Bronze VARCHAR(3),\n",
    ") AS SELECT\n",
    "    AnoEdicao,\n",
    "    IdModalidade,\n",
    "    Ouro,\n",
    "    Prata,\n",
    "    Bronze\n",
    "FROM CSVREAD('./esportesDasEdicoes.csv')"
   ]
  },
  {
   "cell_type": "code",
   "execution_count": 16,
   "id": "aa49767d",
   "metadata": {
    "id": "aa49767d"
   },
   "outputs": [
    {
     "data": {
      "application/vnd.jupyter.widget-view+json": {
       "model_id": "1cac9444-c7d7-49da-b7c7-4547326af879",
       "version_major": 2,
       "version_minor": 0
      },
      "method": "display_data"
     },
     "metadata": {},
     "output_type": "display_data"
    }
   ],
   "source": [
    "/*Pergunta 1*/\n",
    "\n",
    "SELECT E.Ouro, COUNT(*) QtdOuro\n",
    "    FROM EsportesDasEdicoes E, EsporteModalidade M\n",
    "    WHERE M.Id=E.IdModalidade and M.Nome='Archery Women''s Individual'\n",
    "    GROUP BY E.Ouro;"
   ]
  },
  {
   "cell_type": "code",
   "execution_count": 18,
   "id": "2c2cb4ed",
   "metadata": {},
   "outputs": [
    {
     "data": {
      "application/vnd.jupyter.widget-view+json": {
       "model_id": "8e2189a2-4810-4a5e-ba00-8da5a3a33b1c",
       "version_major": 2,
       "version_minor": 0
      },
      "method": "display_data"
     },
     "metadata": {},
     "output_type": "display_data"
    },
    {
     "data": {
      "application/vnd.jupyter.widget-view+json": {
       "model_id": "bb87efed-a4a9-41df-9d84-f4a0a690e833",
       "version_major": 2,
       "version_minor": 0
      },
      "method": "display_data"
     },
     "metadata": {},
     "output_type": "display_data"
    }
   ],
   "source": [
    "/*Pergunta 2*/\n",
    "\n",
    "SELECT AnoEdicao, ROUND(AVG(CAST (Altura as float)),1) Media_altura\n",
    "    FROM ParticipacaoAtletas\n",
    "    WHERE AnoEdicao =2016 and Altura<>'-'\n",
    "    GROUP BY AnoEdicao;\n",
    "\n",
    "SELECT * \n",
    "    FROM (\n",
    "        SELECT E.EsportePai, E.Nome, ROUND(AVG(CAST (Altura as float)),1) Media_Altura\n",
    "        FROM ParticipacaoAtletas P, EsporteModalidade E\n",
    "        WHERE P.IdModalidade=E.Id and AnoEdicao=2016 and Altura<>'-'\n",
    "        GROUP BY IdModalidade\n",
    "        )\n",
    "    ORDER BY MEDIA_ALTURA DESC"
   ]
  },
  {
   "cell_type": "code",
   "execution_count": 19,
   "id": "2862a497",
   "metadata": {},
   "outputs": [
    {
     "data": {
      "application/vnd.jupyter.widget-view+json": {
       "model_id": "6e515e06-402d-4e54-98b9-cafd08dca99f",
       "version_major": 2,
       "version_minor": 0
      },
      "method": "display_data"
     },
     "metadata": {},
     "output_type": "display_data"
    },
    {
     "data": {
      "application/vnd.jupyter.widget-view+json": {
       "model_id": "f04077ee-a3a2-4ad4-a0e9-77d8c679a07f",
       "version_major": 2,
       "version_minor": 0
      },
      "method": "display_data"
     },
     "metadata": {},
     "output_type": "display_data"
    }
   ],
   "source": [
    "/*Pergunta 2*/\n",
    "\n",
    "SELECT AnoEdicao, ROUND(AVG(CAST (Peso as float)),1) Media_peso\n",
    "    FROM ParticipacaoAtletas\n",
    "    WHERE AnoEdicao =2016 and Peso<>'-'\n",
    "    GROUP BY AnoEdicao;\n",
    "\n",
    "SELECT * \n",
    "    FROM (\n",
    "        SELECT E.EsportePai, E.Nome, ROUND(AVG(CAST (Peso as float)),1) Media_peso\n",
    "        FROM ParticipacaoAtletas P, EsporteModalidade E\n",
    "        WHERE P.IdModalidade=E.Id and AnoEdicao=2016 and Peso<>'-'\n",
    "        GROUP BY IdModalidade\n",
    "        )\n",
    "    ORDER BY MEDIA_peso DESC"
   ]
  },
  {
   "cell_type": "code",
   "execution_count": 22,
   "id": "1c3f3c88",
   "metadata": {},
   "outputs": [
    {
     "data": {
      "application/vnd.jupyter.widget-view+json": {
       "model_id": "09140c56-f6a6-4168-8d08-a27e759891e8",
       "version_major": 2,
       "version_minor": 0
      },
      "method": "display_data"
     },
     "metadata": {},
     "output_type": "display_data"
    }
   ],
   "source": [
    "/*Pergunta 3*/\n",
    "DROP TABLE IF EXISTS IDADE;\n",
    "CREATE VIEW Idade AS\n",
    "SELECT P.IdAtleta, P.AnoEdicao, (P.AnoEdicao-cast (A.AnoDeNascimento as float)) AS idade\n",
    "    FROM Atleta A, ParticipacaoAtletas P\n",
    "    WHERE A.Id=P.IdAtleta and A.AnoDeNascimento<>'-';\n",
    "\n",
    "SELECT AnoEdicao, ROUND(AVG(idade),0) Media_Idade\n",
    "    FROM Idade\n",
    "    GROUP BY AnoEdicao\n",
    "    ORDER BY AnoEdicao"
   ]
  },
  {
   "cell_type": "code",
   "execution_count": 24,
   "id": "a1f287ad",
   "metadata": {},
   "outputs": [
    {
     "data": {
      "application/vnd.jupyter.widget-view+json": {
       "model_id": "3cfcfc44-1d44-4055-b346-69a1e93cf685",
       "version_major": 2,
       "version_minor": 0
      },
      "method": "display_data"
     },
     "metadata": {},
     "output_type": "display_data"
    }
   ],
   "source": [
    "/*Pergunta 4*/\n",
    "SELECT AnoEdicao, IdComite, Classificacao\n",
    "    FROM ParticipacaoComites\n",
    "    WHere (IdComite='USA' OR IdComite='URS') AND AnoEdicao>1947 AND AnoEdicao< 1989;"
   ]
  },
  {
   "cell_type": "code",
   "execution_count": 26,
   "id": "8b5d68df",
   "metadata": {
    "colab": {
     "referenced_widgets": [
      "5e4bc665-33ca-43ae-b682-7b3175c36529"
     ]
    },
    "id": "8b5d68df",
    "outputId": "699fbda3-d629-4cb1-ac03-27906360e637"
   },
   "outputs": [
    {
     "data": {
      "application/vnd.jupyter.widget-view+json": {
       "model_id": "f75f02bd-1782-48a6-8d09-66b55c0d2ca1",
       "version_major": 2,
       "version_minor": 0
      },
      "method": "display_data"
     },
     "metadata": {},
     "output_type": "display_data"
    }
   ],
   "source": [
    "/*Pergunta 5*/\n",
    "SELECT P.ANOEDICAO, A.SEXO, COUNT(*) TOTAL\n",
    "    FROM ATLETA A, PARTICIPACAOATLETAS P\n",
    "    WHERE A.ID=P.IDATLETA\n",
    "    GROUP BY P.ANOEDICAO, A.SEXO\n",
    "    ORDER BY P.ANOEDICAO"
   ]
  },
  {
   "cell_type": "code",
   "execution_count": 11,
   "id": "2a970057",
   "metadata": {
    "colab": {
     "referenced_widgets": [
      "3913d59b-59a2-4db0-ac2b-79a7f2d9c349"
     ]
    },
    "id": "2a970057",
    "outputId": "d55fee86-c069-4de8-f0f9-25b854593a4d"
   },
   "outputs": [
    {
     "data": {
      "application/vnd.jupyter.widget-view+json": {
       "model_id": "2e2f0f13-e6f4-40a8-8f6c-573103d21d21",
       "version_major": 2,
       "version_minor": 0
      },
      "method": "display_data"
     },
     "metadata": {},
     "output_type": "display_data"
    }
   ],
   "source": [
    "/*Pergunta Extra 1*/\n",
    "SELECT DISTINCT C.PAIS, CAST (P.Classificacao AS INT) Classificacao\n",
    "    FROM ParticipacaoComites P, ComiteOlimpico C\n",
    "    WHERE C.Sigla=P.IdComite AND AnoEdicao=2016 AND Classificacao<>'-'\n",
    "    ORDER BY Classificacao"
   ]
  },
  {
   "cell_type": "code",
   "execution_count": 12,
   "id": "e30dbac4",
   "metadata": {
    "colab": {
     "referenced_widgets": [
      "b2bbf7c9-ae97-4d6a-bd55-1e1cd7d37602"
     ]
    },
    "id": "e30dbac4",
    "outputId": "925a9aca-d08f-4d44-a4c7-64b72d0d8fbb"
   },
   "outputs": [
    {
     "data": {
      "application/vnd.jupyter.widget-view+json": {
       "model_id": "2930c58f-6b53-4e47-be54-cc9db281cd9c",
       "version_major": 2,
       "version_minor": 0
      },
      "method": "display_data"
     },
     "metadata": {},
     "output_type": "display_data"
    }
   ],
   "source": [
    "/*Pergunta Extra 2*/\n",
    "SELECT C.PAIS, (SUM(P.QTDOURO)+SUM(P.QTDPRATA)+SUM(P.QTDBRONZE))/COUNT(*) MEDIA\n",
    "    FROM PARTICIPACAOCOMITES P, COMITEOLIMPICO C\n",
    "    WHERE P.IDCOMITE=C.SIGLA\n",
    "    GROUP BY C.PAIS\n",
    "    ORDER BY MEDIA DESC"
   ]
  },
  {
   "cell_type": "code",
   "execution_count": 36,
   "id": "4d87c8ab",
   "metadata": {
    "colab": {
     "referenced_widgets": [
      "f0deac1a-086d-40ac-ab2a-24df12301d4b"
     ]
    },
    "id": "4d87c8ab",
    "outputId": "c9677f26-0b8a-495f-8994-43d3b7649bd2"
   },
   "outputs": [
    {
     "data": {
      "application/vnd.jupyter.widget-view+json": {
       "model_id": "29969d9f-e19b-41f5-a74d-d12bdbed0028",
       "version_major": 2,
       "version_minor": 0
      },
      "method": "display_data"
     },
     "metadata": {},
     "output_type": "display_data"
    }
   ],
   "source": [
    "/*Pergunta Extra 3*/\n",
    "SELECT A.NOME, P.MEDALHA, COUNT(*) TOTAL\n",
    "    FROM PARTICIPACAOATLETAS P, ATLETA A\n",
    "    WHERE P.IDATLETA=A.ID AND A.ID=1467 AND P.MEDALHA<>'-'\n",
    "    GROUP BY P.IDATLETA, P.MEDALHA"
   ]
  },
  {
   "cell_type": "code",
   "execution_count": 21,
   "id": "9639466f",
   "metadata": {
    "colab": {
     "referenced_widgets": [
      "f04e9c3f-8e83-4f86-8224-19e6030dbeac"
     ]
    },
    "id": "9639466f",
    "outputId": "6779bd99-e3fd-408f-c559-efdb7e767423"
   },
   "outputs": [
    {
     "data": {
      "application/vnd.jupyter.widget-view+json": {
       "model_id": "b10a7938-0d69-4122-937e-3e06bfbc8ca9",
       "version_major": 2,
       "version_minor": 0
      },
      "method": "display_data"
     },
     "metadata": {},
     "output_type": "display_data"
    }
   ],
   "source": [
    "/*Pergunta Extra 3*/\n",
    "SELECT NOME, COUNT(*) TOTALOLIMPIADAS\n",
    "    FROM (SELECT A.NOME, COUNT(*) TOTALJOGOS\n",
    "            FROM PARTICIPACAOATLETAS P, ATLETA A\n",
    "            WHERE P.IDATLETA=A.ID AND A.ID=1467\n",
    "            GROUP BY P.IDATLETA, P.ANOEDICAO)\n",
    "    GROUP BY NOME"
   ]
  },
  {
   "cell_type": "code",
   "execution_count": 23,
   "id": "06e87aac",
   "metadata": {},
   "outputs": [
    {
     "data": {
      "application/vnd.jupyter.widget-view+json": {
       "model_id": "fad215d9-6a0c-440f-b92f-ae2914b1a7a4",
       "version_major": 2,
       "version_minor": 0
      },
      "method": "display_data"
     },
     "metadata": {},
     "output_type": "display_data"
    }
   ],
   "source": [
    "/*Pergunta extra 5*/\n",
    "\n",
    "SELECT IdComite,AnoEdicao,Classificacao\n",
    "    FROM ParticipacaoComites\n",
    "    WHERE IdComite='RUS'\n",
    "    ORDER BY AnoEdicao;"
   ]
  },
  {
   "cell_type": "code",
   "execution_count": 25,
   "id": "acf406ea",
   "metadata": {},
   "outputs": [
    {
     "data": {
      "application/vnd.jupyter.widget-view+json": {
       "model_id": "5c786091-3281-4846-bed7-95b7cbdbc3f6",
       "version_major": 2,
       "version_minor": 0
      },
      "method": "display_data"
     },
     "metadata": {},
     "output_type": "display_data"
    },
    {
     "data": {
      "application/vnd.jupyter.widget-view+json": {
       "model_id": "227fce18-3b23-4245-87bd-03462e4e052d",
       "version_major": 2,
       "version_minor": 0
      },
      "method": "display_data"
     },
     "metadata": {},
     "output_type": "display_data"
    }
   ],
   "source": [
    "/*Pergunta extra 6*/\n",
    "\n",
    "SELECT * \n",
    "    FROM ParticipacaoComites\n",
    "    WHERE AnoEdicao = 1936 AND IdComite='GER';\n",
    "\n",
    "SELECT E2.ESPORTEPAI, E2.NOME\n",
    "    FROM EsportesDasEdicoes E1, EsporteModalidade E2 \n",
    "    WHERE (Ouro='GER' OR Prata='GER' OR Bronze='GER') AND AnoEdicao=1936 and E1.IDMODALIDADE=E2.ID"
   ]
  },
  {
   "cell_type": "code",
   "execution_count": null,
   "id": "e1c49b1c",
   "metadata": {},
   "outputs": [],
   "source": []
  }
 ],
 "metadata": {
  "colab": {
   "name": "queriesPerguntas.ipynb",
   "provenance": []
  },
  "kernelspec": {
   "display_name": "SQL",
   "language": "SQL",
   "name": "sql"
  },
  "language_info": {
   "codemirror_mode": "sql",
   "file_extension": ".sql",
   "mimetype": "",
   "name": "SQL",
   "nbconverter_exporter": "",
   "version": ""
  },
  "toc": {
   "base_numbering": 1,
   "nav_menu": {},
   "number_sections": false,
   "sideBar": false,
   "skip_h1_title": false,
   "title_cell": "Table of Contents",
   "title_sidebar": "Contents",
   "toc_cell": false,
   "toc_position": {},
   "toc_section_display": false,
   "toc_window_display": false
  }
 },
 "nbformat": 4,
 "nbformat_minor": 5
}
